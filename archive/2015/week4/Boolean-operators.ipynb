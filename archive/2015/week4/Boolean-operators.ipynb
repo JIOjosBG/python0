{
 "cells": [
  {
   "cell_type": "markdown",
   "metadata": {},
   "source": [
    "## Логически оператори\n",
    "\n",
    "### Булев тип\n",
    "Вече разгледахем изразите с аритметични операции.\n",
    "Освен това използвахме изрази с операции за сравнение в контекста на if и while конструкции.\n",
    "Но в Python може да имаме самостоятелни изрази с операции за сравнение.\n",
    "\n",
    "*Въпрос*: Какви стойносити имат изразите с операции за сравнение и колко на брой могат да бъдат те?"
   ]
  },
  {
   "cell_type": "code",
   "execution_count": 3,
   "metadata": {
    "collapsed": false
   },
   "outputs": [
    {
     "data": {
      "text/plain": [
       "True"
      ]
     },
     "execution_count": 3,
     "metadata": {},
     "output_type": "execute_result"
    }
   ],
   "source": [
    "1 < 2"
   ]
  },
  {
   "cell_type": "code",
   "execution_count": 4,
   "metadata": {
    "collapsed": false
   },
   "outputs": [
    {
     "data": {
      "text/plain": [
       "False"
      ]
     },
     "execution_count": 4,
     "metadata": {},
     "output_type": "execute_result"
    }
   ],
   "source": [
    "1 > 2"
   ]
  },
  {
   "cell_type": "markdown",
   "metadata": {},
   "source": [
    "Можем да просвояваме булеви стойности на променливи."
   ]
  },
  {
   "cell_type": "code",
   "execution_count": 8,
   "metadata": {
    "collapsed": false
   },
   "outputs": [
    {
     "name": "stdout",
     "output_type": "stream",
     "text": [
      "True\n",
      "False\n"
     ]
    }
   ],
   "source": [
    "is_ready = 1 < 2\n",
    "print(is_ready)\n",
    "\n",
    "is_ready = False\n",
    "print(is_ready)"
   ]
  },
  {
   "cell_type": "markdown",
   "metadata": {},
   "source": [
    "Можем да използваме булеви стойновти като условие на условен оператор и цикъл."
   ]
  },
  {
   "cell_type": "code",
   "execution_count": 9,
   "metadata": {
    "collapsed": false
   },
   "outputs": [
    {
     "name": "stdout",
     "output_type": "stream",
     "text": [
      "A is less than b\n"
     ]
    }
   ],
   "source": [
    "a = 1\n",
    "b = 2\n",
    "a_less_than_b = a < b\n",
    "if a_less_than_b:\n",
    "    print(\"A is less than b\")"
   ]
  },
  {
   "cell_type": "code",
   "execution_count": 11,
   "metadata": {
    "collapsed": false
   },
   "outputs": [
    {
     "name": "stdout",
     "output_type": "stream",
     "text": [
      "1\n",
      "2\n",
      "3\n",
      "4\n",
      "5\n",
      "6\n",
      "7\n",
      "8\n",
      "9\n",
      "10\n"
     ]
    }
   ],
   "source": [
    "counter = 1\n",
    "loop = counter <= 10\n",
    "while loop:\n",
    "    print(counter)\n",
    "    counter = counter + 1\n",
    "    loop = counter <= 10"
   ]
  },
  {
   "cell_type": "markdown",
   "metadata": {},
   "source": [
    "### Логически оператори\n",
    "Логическите оператори се изпълняват върху булеви изрази.\n",
    "\n",
    "Ще представим основните логически операции чрез таблица на истинност.\n",
    "\n",
    "#### Логическо И (and)"
   ]
  },
  {
   "cell_type": "code",
   "execution_count": 26,
   "metadata": {
    "collapsed": false
   },
   "outputs": [
    {
     "name": "stdout",
     "output_type": "stream",
     "text": [
      "-------------------------\n",
      "|      x|      y|x and y|\n",
      "-------------------------\n",
      "|  False|  False|  False|\n",
      "|  False|   True|  False|\n",
      "|   True|  False|  False|\n",
      "|   True|   True|   True|\n",
      "-------------------------\n"
     ]
    }
   ],
   "source": [
    "print(25 * \"-\")\n",
    "print(\"|%7s|%7s|%7s|\" % (\"x\", \"y\", \"x and y\"))\n",
    "print(25 * \"-\")\n",
    "print(\"|%7s|%7s|%7s|\" % (False, False, False and False))\n",
    "print(\"|%7s|%7s|%7s|\" % (False, True, False and True))\n",
    "print(\"|%7s|%7s|%7s|\" % (True, False, True and False))\n",
    "print(\"|%7s|%7s|%7s|\" % (True, True, True and True))\n",
    "print(25 * \"-\")"
   ]
  },
  {
   "cell_type": "markdown",
   "metadata": {},
   "source": [
    "#### Логическо ИЛИ (or)"
   ]
  },
  {
   "cell_type": "code",
   "execution_count": 27,
   "metadata": {
    "collapsed": false
   },
   "outputs": [
    {
     "name": "stdout",
     "output_type": "stream",
     "text": [
      "-------------------------\n",
      "|      x|      y| x or y|\n",
      "-------------------------\n",
      "|  False|  False|  False|\n",
      "|  False|   True|   True|\n",
      "|   True|  False|   True|\n",
      "|   True|   True|   True|\n",
      "-------------------------\n"
     ]
    }
   ],
   "source": [
    "print(25 * \"-\")\n",
    "print(\"|%7s|%7s|%7s|\" % (\"x\", \"y\", \"x or y\"))\n",
    "print(25 * \"-\")\n",
    "print(\"|%7s|%7s|%7s|\" % (False, False, False or False))\n",
    "print(\"|%7s|%7s|%7s|\" % (False, True, False or True))\n",
    "print(\"|%7s|%7s|%7s|\" % (True, False, True or False))\n",
    "print(\"|%7s|%7s|%7s|\" % (True, True, True or True))\n",
    "print(25 * \"-\")"
   ]
  },
  {
   "cell_type": "markdown",
   "metadata": {},
   "source": [
    "#### Логическо отрицание (not)"
   ]
  },
  {
   "cell_type": "code",
   "execution_count": 28,
   "metadata": {
    "collapsed": false
   },
   "outputs": [
    {
     "name": "stdout",
     "output_type": "stream",
     "text": [
      "-----------------\n",
      "|      x|  not x|\n",
      "-----------------\n",
      "|  False|   True|\n",
      "|   True|  False|\n",
      "-----------------\n"
     ]
    }
   ],
   "source": [
    "print(17 * \"-\")\n",
    "print(\"|%7s|%7s|\" % (\"x\", \"not x\"))\n",
    "print(17 * \"-\")\n",
    "print(\"|%7s|%7s|\" % (False, not False))\n",
    "print(\"|%7s|%7s|\" % (True, not True))\n",
    "print(17 * \"-\")"
   ]
  },
  {
   "cell_type": "markdown",
   "metadata": {},
   "source": [
    "### Примери"
   ]
  },
  {
   "cell_type": "code",
   "execution_count": 30,
   "metadata": {
    "collapsed": false
   },
   "outputs": [
    {
     "data": {
      "text/plain": [
       "False"
      ]
     },
     "execution_count": 30,
     "metadata": {},
     "output_type": "execute_result"
    }
   ],
   "source": [
    "1 < 2 and 3 > 4"
   ]
  },
  {
   "cell_type": "markdown",
   "metadata": {},
   "source": [
    "*Упражнение*: Напишете програма, която показва знака (+ или -) от произведението\n",
    "на две числа, без да го пресмята. Решението трябва да се събира на 4 реда."
   ]
  },
  {
   "cell_type": "code",
   "execution_count": 3,
   "metadata": {
    "collapsed": false
   },
   "outputs": [
    {
     "name": "stdout",
     "output_type": "stream",
     "text": [
      "-\n"
     ]
    }
   ],
   "source": [
    "a = 1\n",
    "b = -1\n",
    "if (0 <= a and 0 <= b) or (a < 0 and b < 0):\n",
    "    print(\"+\")\n",
    "else:\n",
    "    print(\"-\")"
   ]
  }
 ],
 "metadata": {
  "kernelspec": {
   "display_name": "Python 3",
   "language": "python",
   "name": "python3"
  },
  "language_info": {
   "codemirror_mode": {
    "name": "ipython",
    "version": 3
   },
   "file_extension": ".py",
   "mimetype": "text/x-python",
   "name": "python",
   "nbconvert_exporter": "python",
   "pygments_lexer": "ipython3",
   "version": "3.4.3"
  }
 },
 "nbformat": 4,
 "nbformat_minor": 0
}
