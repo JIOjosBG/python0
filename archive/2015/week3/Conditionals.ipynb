{
 "cells": [
  {
   "cell_type": "markdown",
   "metadata": {},
   "source": [
    "## Условен оператор (if)\n",
    "\n",
    "Условният оператор променя поведението на програмата, на базата на условие.\n",
    "\n",
    "Ако условието, подадено на условният оператор е вярно, се изпълнява блока от код  \n",
    "на следвщия ред (който трябва да е с един таб навътре).\n",
    "\n",
    "Използвайки операциите за сравнение\n",
    "- `<`\n",
    "- `>`\n",
    "- `==`\n",
    "- `!=`\n",
    "- `<=`\n",
    "- `>=`\n",
    "\n",
    "попълнете празните места, така че да се изпише:\n",
    "\n",
    "    a is greater then b\n",
    "    a is less than b\n",
    "    a is equal to b\n",
    "    a is not equal to b\n"
   ]
  },
  {
   "cell_type": "code",
   "execution_count": 1,
   "metadata": {
    "collapsed": false,
    "scrolled": true
   },
   "outputs": [
    {
     "name": "stdout",
     "output_type": "stream",
     "text": [
      "a is greater then b\n",
      "a is less than b\n",
      "a is equal to b\n",
      "a is not equal to b\n"
     ]
    }
   ],
   "source": [
    "a = 2\n",
    "b = 1\n",
    "if a > b:\n",
    "    print('a is greater then b')\n",
    "\n",
    "a = 1\n",
    "b = 2\n",
    "if a < b:\n",
    "    print('a is less than b')\n",
    "\n",
    "a = 1\n",
    "b = 1\n",
    "if a == b:\n",
    "    print('a is equal to b')\n",
    "\n",
    "a = 1\n",
    "b = 2\n",
    "if a != b:\n",
    "    print('a is not equal to b')\n"
   ]
  },
  {
   "cell_type": "markdown",
   "metadata": {},
   "source": [
    "Ако изслвдваме два възможни случая, трябва да използваме `if - else` конструкция."
   ]
  },
  {
   "cell_type": "code",
   "execution_count": 2,
   "metadata": {
    "collapsed": false
   },
   "outputs": [
    {
     "name": "stdout",
     "output_type": "stream",
     "text": [
      "a is not equal to b\n"
     ]
    }
   ],
   "source": [
    "a = 1\n",
    "b = 2\n",
    "if a == b:\n",
    "    print('a is equal to b')\n",
    "else:\n",
    "    print('a is not equal to b')"
   ]
  },
  {
   "cell_type": "markdown",
   "metadata": {},
   "source": [
    "За повече от два - можем да добавим нов случай с `elif`."
   ]
  },
  {
   "cell_type": "code",
   "execution_count": 3,
   "metadata": {
    "collapsed": false
   },
   "outputs": [
    {
     "name": "stdout",
     "output_type": "stream",
     "text": [
      "basic\n"
     ]
    }
   ],
   "source": [
    "ph = 6.5\n",
    "if ph > 7:\n",
    "    print('acidic')\n",
    "elif ph < 7:\n",
    "    print('basic')\n",
    "else:\n",
    "    print('neutral')\n"
   ]
  },
  {
   "cell_type": "markdown",
   "metadata": {},
   "source": [
    "Имайки променливите `a` и `b`, напишете порграма, кояот да изписва едно от\n",
    "- `a is greater then b`\n",
    "- `a is less than b`\n",
    "- `a is equal to b`\n",
    "\n",
    "в зависимост от стойностите на `a` и `b`, с най малко код."
   ]
  },
  {
   "cell_type": "code",
   "execution_count": 5,
   "metadata": {
    "collapsed": false
   },
   "outputs": [
    {
     "name": "stdout",
     "output_type": "stream",
     "text": [
      "a is less than b\n"
     ]
    }
   ],
   "source": [
    "a = 1\n",
    "b = 2\n",
    "if a > b:\n",
    "    print(\"a is greater than b\")\n",
    "elif a < b:\n",
    "    print(\"a is less than b\")\n",
    "else:\n",
    "    print(\"a is equal to b\")"
   ]
  },
  {
   "cell_type": "markdown",
   "metadata": {},
   "source": [
    "Имаме химическо съединение с даден pH. В зависимост от стойността на pH, трябва да се изпише\n",
    "\n",
    "диапазон | събощение\n",
    "---|---\n",
    "0–4  | Strong acid\n",
    "5–6  | Weak acid\n",
    "7    | Neutral\n",
    "8–9  | Weak base\n",
    "10–14| Strong base\n"
   ]
  },
  {
   "cell_type": "code",
   "execution_count": 6,
   "metadata": {
    "collapsed": false
   },
   "outputs": [
    {
     "name": "stdout",
     "output_type": "stream",
     "text": [
      "Strong acid\n"
     ]
    }
   ],
   "source": [
    "ph = 3.1\n",
    "\n",
    "if 0 <= ph <= 4:\n",
    "    print('Strong acid')\n",
    "elif 5 <= ph <= 6:\n",
    "    print('Weak acid')\n",
    "elif ph == 7:\n",
    "    print('Neutral')\n",
    "elif 8 <= ph <= 9:\n",
    "    print('Weak base')\n",
    "elif 10 <= ph <= 14:\n",
    "    print('Strong base')"
   ]
  },
  {
   "cell_type": "markdown",
   "metadata": {},
   "source": [
    "Упражнение: Напишете програма, която за дадена цифра (0-9), зададена като\n",
    "вход, извежда името на цифрата на български език."
   ]
  },
  {
   "cell_type": "code",
   "execution_count": 7,
   "metadata": {
    "collapsed": false
   },
   "outputs": [
    {
     "name": "stdout",
     "output_type": "stream",
     "text": [
      "Entar a number: 5\n",
      "Five\n"
     ]
    }
   ],
   "source": [
    "number = int(input(\"Entar a number: \"))\n",
    "if number == 0:\n",
    "    print(\"Zero\")\n",
    "elif number == 1:\n",
    "    print(\"One\")\n",
    "elif number == 2:\n",
    "    print(\"Two\")\n",
    "elif number == 3:\n",
    "    print(\"Three\")\n",
    "elif number == 4:\n",
    "    print(\"Four\")\n",
    "elif number == 5:\n",
    "    print(\"Five\")\n",
    "elif number == 6:\n",
    "    print(\"Six\")\n",
    "elif number == 7:\n",
    "    print(\"Seven\")\n",
    "elif number == 8:\n",
    "    print(\"Eight\")\n",
    "elif number == 9:\n",
    "    print(\"Nine\")\n",
    "else:\n",
    "    print(\"Enter a number between 0 and 9\")"
   ]
  },
  {
   "cell_type": "markdown",
   "metadata": {},
   "source": [
    "`if` конструкциите могат да се влагат една в друга."
   ]
  },
  {
   "cell_type": "code",
   "execution_count": 8,
   "metadata": {
    "collapsed": false
   },
   "outputs": [
    {
     "name": "stdout",
     "output_type": "stream",
     "text": [
      "normal working day\n"
     ]
    }
   ],
   "source": [
    "today = 'monday'\n",
    "bank_balance = 100\n",
    "if today == 'holiday':\n",
    "   if 2000 < bank_balance:\n",
    "      print('Go for shopping')\n",
    "   else:\n",
    "      print('Watch TV')\n",
    "else:\n",
    "   print('normal working day')"
   ]
  },
  {
   "cell_type": "markdown",
   "metadata": {},
   "source": [
    "*Упражнение*: Напишете програма, която показва знака (+ или -) от произведението\n",
    "на две числа, без да го пресмята."
   ]
  },
  {
   "cell_type": "code",
   "execution_count": 9,
   "metadata": {
    "collapsed": false
   },
   "outputs": [
    {
     "name": "stdout",
     "output_type": "stream",
     "text": [
      "-\n"
     ]
    }
   ],
   "source": [
    "a = 1\n",
    "b = -1\n",
    "if a >= 0:\n",
    "    if b >= 0:\n",
    "        print(\"+\")\n",
    "    else:\n",
    "        print(\"-\")\n",
    "else:\n",
    "    if b >= 0:\n",
    "        print(\"-\")\n",
    "    else:\n",
    "        print(\"+\")\n",
    "    "
   ]
  },
  {
   "cell_type": "markdown",
   "metadata": {},
   "source": [
    "*Упражнение*: Напишете програма, която намира най-голямото по стойност число,\n",
    "измежду три дадени числа."
   ]
  },
  {
   "cell_type": "code",
   "execution_count": 10,
   "metadata": {
    "collapsed": false
   },
   "outputs": [
    {
     "name": "stdout",
     "output_type": "stream",
     "text": [
      "c is the greatest\n"
     ]
    }
   ],
   "source": [
    "a = 1\n",
    "b = 2\n",
    "c = 3\n",
    "if a <= b <= c:\n",
    "    print(\"c is the greatest\")\n",
    "elif b <= a <= c:\n",
    "    print(\"c is the greatest\")\n",
    "elif a <= c <= b:\n",
    "    print(\"b is the greatest\")\n",
    "elif c <= a <= b:\n",
    "    print(\"b is the greatest\")\n",
    "else:\n",
    "    print(\"a is the greatest\")\n"
   ]
  }
 ],
 "metadata": {
  "kernelspec": {
   "display_name": "Python 3",
   "language": "python",
   "name": "python3"
  },
  "language_info": {
   "codemirror_mode": {
    "name": "ipython",
    "version": 3
   },
   "file_extension": ".py",
   "mimetype": "text/x-python",
   "name": "python",
   "nbconvert_exporter": "python",
   "pygments_lexer": "ipython3",
   "version": "3.4.3"
  }
 },
 "nbformat": 4,
 "nbformat_minor": 0
}
