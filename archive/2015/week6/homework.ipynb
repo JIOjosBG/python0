{
 "cells": [
  {
   "cell_type": "markdown",
   "metadata": {},
   "source": [
    "** Краен срок за предаване на домашното: 15.01.2016**\n",
    "## Задача 1 - Квадратно уравнение\n",
    "\n",
    "Във файл, който се казва `quadratic_equation.py`, напишете програма, \n",
    "която при въвеждане на коефициентите (a, b и c)\n",
    "на квадратно уравнение: ax^2 + bx + c, изчислява и извежда неговите\n",
    "реални корени (ако има такива). \n",
    "Квадратните уравнения могат да имат 0, 1 или 2 реални корена.\n",
    "\n",
    "* Чете от потребител, първото число `a`\n",
    "* Чете от потребител, второто число `b`\n",
    "* Чете от потребител, третото число `c`\n",
    "\n",
    "* Изкарва на екрана корените на уравнението `x1` и `x2`, закръглени до два знака след десетичната точка.\n",
    "* Ако няма реални корени извежд `NRK`.\n",
    "\n",
    "**Примерно използване:**\n",
    "\n",
    "```\n",
    "Enter a: 2\n",
    "Enter b: 3\n",
    "Enter b: 4\n",
    "NRK\n",
    "```\n",
    "\n",
    "```\n",
    "Enter a: 1\n",
    "Enter b: 3\n",
    "Enter b: -4\n",
    "x1 = -4\n",
    "x2 = 1\n",
    "```\n",
    "\n",
    "```\n",
    "Enter a: 9\n",
    "Enter b: 12\n",
    "Enter b: 4\n",
    "x1 = 0.67\n",
    "x2 = 0.67\n",
    "```"
   ]
  },
  {
   "cell_type": "markdown",
   "metadata": {},
   "source": [
    "За да изчислите квадратен корен използвайте функцията `sqrt`."
   ]
  },
  {
   "cell_type": "code",
   "execution_count": 1,
   "metadata": {
    "collapsed": false
   },
   "outputs": [
    {
     "name": "stdout",
     "output_type": "stream",
     "text": [
      "2.0\n",
      "2.449489742783178\n"
     ]
    }
   ],
   "source": [
    "from math import sqrt\n",
    "\n",
    "print(sqrt(4))\n",
    "print(sqrt(6))"
   ]
  },
  {
   "cell_type": "markdown",
   "metadata": {},
   "source": [
    "За да закръглите резултата до два знака след запетаята използвайте функцията `round`."
   ]
  },
  {
   "cell_type": "code",
   "execution_count": 2,
   "metadata": {
    "collapsed": false
   },
   "outputs": [
    {
     "data": {
      "text/plain": [
       "2.45"
      ]
     },
     "execution_count": 2,
     "metadata": {},
     "output_type": "execute_result"
    }
   ],
   "source": [
    "round(2.4494, 2)"
   ]
  }
 ],
 "metadata": {
  "kernelspec": {
   "display_name": "Python 3",
   "language": "python",
   "name": "python3"
  },
  "language_info": {
   "codemirror_mode": {
    "name": "ipython",
    "version": 3
   },
   "file_extension": ".py",
   "mimetype": "text/x-python",
   "name": "python",
   "nbconvert_exporter": "python",
   "pygments_lexer": "ipython3",
   "version": "3.4.3"
  }
 },
 "nbformat": 4,
 "nbformat_minor": 0
}
