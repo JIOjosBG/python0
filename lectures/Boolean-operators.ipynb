{
 "cells": [
  {
   "cell_type": "markdown",
   "metadata": {},
   "source": [
    "## Логически оператори\n",
    "\n",
    "### Булев тип\n",
    "\n",
    "*Въпрос*: Какви стойносити имат изразите с операции за сравнение и колко на брой могат да бъдат те?"
   ]
  },
  {
   "cell_type": "code",
   "execution_count": 3,
   "metadata": {},
   "outputs": [
    {
     "data": {
      "text/plain": [
       "True"
      ]
     },
     "execution_count": 3,
     "metadata": {},
     "output_type": "execute_result"
    }
   ],
   "source": [
    "1 < 2"
   ]
  },
  {
   "cell_type": "code",
   "execution_count": 4,
   "metadata": {},
   "outputs": [
    {
     "data": {
      "text/plain": [
       "False"
      ]
     },
     "execution_count": 4,
     "metadata": {},
     "output_type": "execute_result"
    }
   ],
   "source": [
    "1 > 2"
   ]
  },
  {
   "cell_type": "markdown",
   "metadata": {},
   "source": [
    "Разбира се възможните стойности са само две - вярно (True) или грешно (False).\n",
    "\n",
    "Можем да просвояваме булеви стойности на променливи."
   ]
  },
  {
   "cell_type": "code",
   "execution_count": 8,
   "metadata": {},
   "outputs": [
    {
     "name": "stdout",
     "output_type": "stream",
     "text": [
      "True\n",
      "False\n"
     ]
    }
   ],
   "source": [
    "is_ready = 1 < 2\n",
    "print(is_ready)\n",
    "\n",
    "is_ready = False\n",
    "print(is_ready)"
   ]
  },
  {
   "cell_type": "markdown",
   "metadata": {},
   "source": [
    "### Логически оператори\n",
    "Логическите оператори се изпълняват върху булеви изрази.\n",
    "\n",
    "Ще представим основните логически операции чрез таблица на истинност.\n",
    "\n",
    "#### Логическо И (and)"
   ]
  },
  {
   "cell_type": "code",
   "execution_count": 3,
   "metadata": {},
   "outputs": [
    {
     "name": "stdout",
     "output_type": "stream",
     "text": [
      "-------------------------\n",
      "|x      |y      |x and y|\n",
      "-------------------------\n",
      "|False  |False  |False  |\n",
      "|False  |True   |False  |\n",
      "|True   |False  |False  |\n",
      "|True   |True   |True   |\n",
      "-------------------------\n"
     ]
    }
   ],
   "source": [
    "print(25 * \"-\")\n",
    "print(\"|{!s:7}|{!s:7}|{!s:7}|\".format(\"x\", \"y\", \"x and y\"))\n",
    "print(25 * \"-\")\n",
    "print(\"|{!s:7}|{!s:7}|{!s:7}|\".format(False, False, False and False))\n",
    "print(\"|{!s:7}|{!s:7}|{!s:7}|\".format(False, True, False and True))\n",
    "print(\"|{!s:7}|{!s:7}|{!s:7}|\".format(True, False, True and False))\n",
    "print(\"|{!s:7}|{!s:7}|{!s:7}|\".format(True, True, True and True))\n",
    "print(25 * \"-\")"
   ]
  },
  {
   "cell_type": "markdown",
   "metadata": {},
   "source": [
    "#### Логическо ИЛИ (or)"
   ]
  },
  {
   "cell_type": "code",
   "execution_count": 4,
   "metadata": {},
   "outputs": [
    {
     "name": "stdout",
     "output_type": "stream",
     "text": [
      "-------------------------\n",
      "|x      |y      |x or y |\n",
      "-------------------------\n",
      "|False  |False  |False  |\n",
      "|False  |True   |True   |\n",
      "|True   |False  |True   |\n",
      "|True   |True   |True   |\n",
      "-------------------------\n"
     ]
    }
   ],
   "source": [
    "print(25 * \"-\")\n",
    "print(\"|{!s:7}|{!s:7}|{!s:7}|\".format(\"x\", \"y\", \"x or y\"))\n",
    "print(25 * \"-\")\n",
    "print(\"|{!s:7}|{!s:7}|{!s:7}|\".format(False, False, False or False))\n",
    "print(\"|{!s:7}|{!s:7}|{!s:7}|\".format(False, True, False or True))\n",
    "print(\"|{!s:7}|{!s:7}|{!s:7}|\".format(True, False, True or False))\n",
    "print(\"|{!s:7}|{!s:7}|{!s:7}|\".format(True, True, True or True))\n",
    "print(25 * \"-\")"
   ]
  },
  {
   "cell_type": "markdown",
   "metadata": {},
   "source": [
    "#### Логическо отрицание (not)"
   ]
  },
  {
   "cell_type": "code",
   "execution_count": 5,
   "metadata": {},
   "outputs": [
    {
     "name": "stdout",
     "output_type": "stream",
     "text": [
      "-----------------\n",
      "|      x|  not x|\n",
      "-----------------\n",
      "|  False|   True|\n",
      "|   True|  False|\n",
      "-----------------\n"
     ]
    }
   ],
   "source": [
    "print(17 * \"-\")\n",
    "print(\"|%7s|%7s|\" % (\"x\", \"not x\"))\n",
    "print(17 * \"-\")\n",
    "print(\"|%7s|%7s|\" % (False, not False))\n",
    "print(\"|%7s|%7s|\" % (True, not True))\n",
    "print(17 * \"-\")"
   ]
  },
  {
   "cell_type": "markdown",
   "metadata": {},
   "source": [
    "### Примери"
   ]
  },
  {
   "cell_type": "code",
   "execution_count": 30,
   "metadata": {},
   "outputs": [
    {
     "data": {
      "text/plain": [
       "False"
      ]
     },
     "execution_count": 30,
     "metadata": {},
     "output_type": "execute_result"
    }
   ],
   "source": [
    "1 < 2 and 3 > 4"
   ]
  }
 ],
 "metadata": {
  "kernelspec": {
   "display_name": "Python 3",
   "language": "python",
   "name": "python3"
  },
  "language_info": {
   "codemirror_mode": {
    "name": "ipython",
    "version": 3
   },
   "file_extension": ".py",
   "mimetype": "text/x-python",
   "name": "python",
   "nbconvert_exporter": "python",
   "pygments_lexer": "ipython3",
   "version": "3.6.3"
  }
 },
 "nbformat": 4,
 "nbformat_minor": 1
}
